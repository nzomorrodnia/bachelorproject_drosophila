{
 "cells": [
  {
   "cell_type": "code",
   "execution_count": null,
   "metadata": {},
   "outputs": [],
   "source": [
    "## IMPORTS\n",
    "\n",
    "%matplotlib inline\n",
    "import pandas as pd\n",
    "import matplotlib.pyplot as plt\n",
    "import numpy as np\n",
    "import seaborn as sns"
   ]
  },
  {
   "cell_type": "code",
   "execution_count": null,
   "metadata": {},
   "outputs": [],
   "source": [
    "DATA_PATH = '/Users/ninazomorrodnia/Desktop/Bachelor datamapper/'\n",
    "FILE_PATH = DATA_PATH + 'gene_count(1) RNAseq all data no comparisons.xlsx'\n",
    "\n",
    "# Reading in RNA seq data as a Pandas DataFrame\n",
    "df_RNASEQ = pd.read_excel(FILE_PATH)\n",
    "df_RNASEQ.head()"
   ]
  },
  {
   "cell_type": "code",
   "execution_count": null,
   "metadata": {},
   "outputs": [],
   "source": [
    "df_RNASEQ['wildtype_difference'] = df_RNASEQ['Average_W_Fed']-df_RNASEQ['Average_W_Starv']\n",
    "df_RNASEQ['HR3_difference'] = df_RNASEQ['Average_HR3_Fed']-df_RNASEQ['Average_HR3_Starv']\n",
    "df_RNASEQ['TOR_difference'] = df_RNASEQ['Average_TOR_Fed']-df_RNASEQ['Average_TOR_Starv']\n",
    "\n",
    "df_RNASEQ.head()"
   ]
  },
  {
   "cell_type": "code",
   "execution_count": null,
   "metadata": {},
   "outputs": [],
   "source": [
    "df_RNASEQ_filtered = df_RNASEQ[['gene_id', 'wildtype_difference', 'HR3_difference', 'TOR_difference']]\n",
    "df_RNASEQ_filtered.head()"
   ]
  },
  {
   "cell_type": "code",
   "execution_count": null,
   "metadata": {},
   "outputs": [],
   "source": [
    "df_RNASEQ_GENES = df_RNASEQ"
   ]
  },
  {
   "cell_type": "code",
   "execution_count": null,
   "metadata": {},
   "outputs": [],
   "source": [
    "# Saving the filtered dataset to a new CSV file\n",
    "df_RNASEQ_filtered.to_csv('df_RNASEQ_filtered.csv', index=False)"
   ]
  },
  {
   "cell_type": "code",
   "execution_count": null,
   "metadata": {},
   "outputs": [],
   "source": [
    "df_RNASEQ_GENES = df_RNASEQ[['gene_id']]\n",
    "df_RNASEQ_GENES.head()"
   ]
  },
  {
   "cell_type": "code",
   "execution_count": null,
   "metadata": {},
   "outputs": [],
   "source": [
    "# Saving the filtered dataset to a new CSV file\n",
    "df_RNASEQ_GENES.to_csv('df_RNASEQ_GENES.csv', index=False)"
   ]
  },
  {
   "cell_type": "code",
   "execution_count": null,
   "metadata": {},
   "outputs": [],
   "source": [
    "# Finding path to RNAseq wildtype all data file\n",
    "PATH_wildtype_all = '/Users/ninazomorrodnia/Desktop/RNAseq pathway analysis/All each genotype/'\n",
    "FILE_wildtype_all = PATH_wildtype_all + 'wildtype.xlsx'\n",
    "\n",
    "# Reading in RNA seq wildtype all data as a Pandas DataFrame\n",
    "df_wildtype_all = pd.read_excel(FILE_wildtype_all)\n",
    "df_wildtype_all.head()"
   ]
  },
  {
   "cell_type": "code",
   "execution_count": null,
   "metadata": {},
   "outputs": [],
   "source": [
    "# Filtering out all rows all non-significant p-values\n",
    "df_wildtype_filtered_sig5 = df_wildtype_all[df_wildtype_all['padj'] < 0.05]\n",
    "df_wildtype_filtered_sig5.head()"
   ]
  },
  {
   "cell_type": "code",
   "execution_count": null,
   "metadata": {},
   "outputs": [],
   "source": [
    "# Saving the filtered dataset to a new CSV file\n",
    "df_wildtype_filtered_sig5.to_csv('df_wildtype_filtered_sig5.csv', index=False)"
   ]
  },
  {
   "cell_type": "code",
   "execution_count": null,
   "metadata": {},
   "outputs": [],
   "source": [
    "# Finding path to RNAseq HR3 all data file\n",
    "PATH_HR3_all = '/Users/ninazomorrodnia/Desktop/RNAseq pathway analysis/All each genotype/'\n",
    "FILE_HR3_all = PATH_HR3_all + 'HR3.xlsx'\n",
    "\n",
    "# Reading in RNA seq HR3 all data as a Pandas DataFrame\n",
    "df_HR3_all = pd.read_excel(FILE_HR3_all)\n",
    "df_HR3_all.head()"
   ]
  },
  {
   "cell_type": "code",
   "execution_count": null,
   "metadata": {},
   "outputs": [],
   "source": [
    "# Filtering out all rows all non-significant p-values\n",
    "df_HR3_filtered_sig5 = df_HR3_all[df_HR3_all['padj'] < 0.05]\n",
    "df_HR3_filtered_sig5.head()"
   ]
  },
  {
   "cell_type": "code",
   "execution_count": null,
   "metadata": {},
   "outputs": [],
   "source": [
    "# Saving the filtered dataset to a new CSV file\n",
    "df_HR3_filtered_sig5.to_csv('df_HR3_filtered_sig5.csv', index=False)"
   ]
  },
  {
   "cell_type": "code",
   "execution_count": null,
   "metadata": {},
   "outputs": [],
   "source": [
    "# Finding path to RNAseq TOR all data file\n",
    "PATH_TOR_all = '/Users/ninazomorrodnia/Desktop/RNAseq pathway analysis/All each genotype/'\n",
    "FILE_TOR_all = PATH_TOR_all + 'TOR.xlsx'\n",
    "\n",
    "# Reading in RNA seq TOR all data as a Pandas DataFrame\n",
    "df_TOR_all = pd.read_excel(FILE_TOR_all)\n",
    "df_TOR_all.head()"
   ]
  },
  {
   "cell_type": "code",
   "execution_count": null,
   "metadata": {},
   "outputs": [],
   "source": [
    "# Filtering out all rows all non-significant p-values\n",
    "df_TOR_filtered_sig5 = df_TOR_all[df_TOR_all['padj'] < 0.05]\n",
    "df_TOR_filtered_sig5.head()"
   ]
  },
  {
   "cell_type": "code",
   "execution_count": null,
   "metadata": {},
   "outputs": [],
   "source": [
    "# Saving the filtered dataset to a new CSV file\n",
    "df_TOR_filtered_sig5.to_csv('df_TOR_filtered_sig5.csv', index=False)"
   ]
  },
  {
   "cell_type": "code",
   "execution_count": null,
   "metadata": {},
   "outputs": [],
   "source": []
  }
 ],
 "metadata": {
  "language_info": {
   "name": "python"
  },
  "orig_nbformat": 4
 },
 "nbformat": 4,
 "nbformat_minor": 2
}
